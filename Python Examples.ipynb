{
 "metadata": {
  "name": ""
 },
 "nbformat": 3,
 "nbformat_minor": 0,
 "worksheets": [
  {
   "cells": [
    {
     "cell_type": "markdown",
     "metadata": {},
     "source": [
      "## Currency Corss Sorting Question:\n",
      "\n",
      "You have a list of currency pairs `ccy_pairs =`\n",
      "\n",
      "`[\"AUD/CAD\",\"CHF/JPY\",\"EUR/NZD\",\"GBP/JPY\",\"TRY/JPY\",\"USD/NOK\",\"AUD/CHF\",\"EUR/AUD\",\"EUR/SEK\",\"GBP/NZD\",\"USD/CAD\",\n",
      "\"USD/SEK\",\"AUD/JPY\",\"EUR/CAD\",\"EUR/TRY\",\"GBP/USD\",\"USD/CHF\",\"USD/TRY\",\"AUD/NZD\",\"EUR/CHF\",\"EUR/USD\",\"NZD/CAD\",\n",
      "\"USD/CNH\",\"USD/ZAR\",\"AUD/USD\",\"EUR/GBP\",\"GBP/AUD\",\"NZD/CHF\",\"USD/HKD\",\"ZAR/JPY\",\"CAD/CHF\",\"EUR/JPY\",\"GBP/CAD\",\n",
      "\"NZD/JPY\",\"USD/JPY\",\"CAD/JPY\",\"EUR/NOK\",\"GBP/CHF\",\"NZD/USD\",\"USD/MXN\"]`\n",
      "\n",
      "\n",
      "You have a list of currencies you are intersted in `ccy_prefs = ['CAD','NZD','JPY','AUD']`\n",
      "\n",
      "Order the `ccy_pairs` list according to the `ccy_prefs`.  If there are multiple crosses in pref currency group, order them as well according to the order in `ccy_prefs`."
     ]
    },
    {
     "cell_type": "markdown",
     "metadata": {},
     "source": [
      "## Word Morph\n",
      "\n",
      "Create a game where you morph one word into another by just changing one letter at a time.  Given starting and ending word, find all combinations of words with the same length where second word would be created by changing one letter in the starting word.  All the words need to be valid words in the English dictionary.  Account for boundry conditions, like there is no answer and case where words repeat without reaching the end word.\n",
      "\n",
      "Example:  http://www.thinkablepuzzles.com/wordchange\n",
      "\n",
      "Starting word = TREE\n",
      "Ending word = FLED\n",
      "\n",
      "One answer would be TREE --> FREE --> FRED --> FLED\n"
     ]
    },
    {
     "cell_type": "markdown",
     "metadata": {},
     "source": [
      "## Board Game\n",
      "\n",
      "Imagine n x m board game with letters in each cell.  Find all words that this board contains.  A word can not reuse the same cell twice."
     ]
    },
    {
     "cell_type": "markdown",
     "metadata": {},
     "source": [
      "## Sort by occurance\n",
      "\n",
      "Create a function that will return the element from the list that occurs most times.  Return all elements in case of a tie.\n",
      "\n",
      "`L1 = [2,3,4,3,1]\n",
      "L2 = [2,3,4,3,4,1]`\n",
      "\n",
      "`print f(L1)\n",
      "3\n",
      "print f(L2)\n",
      "3,4`"
     ]
    }
   ],
   "metadata": {}
  }
 ]
}