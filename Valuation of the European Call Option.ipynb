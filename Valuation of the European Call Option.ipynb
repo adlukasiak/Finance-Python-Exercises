{
 "metadata": {
  "name": ""
 },
 "nbformat": 3,
 "nbformat_minor": 0,
 "worksheets": [
  {
   "cells": [
    {
     "cell_type": "markdown",
     "metadata": {},
     "source": [
      "Valuation of an European call option by Monte Carlo simulation using Black-Scholes-Merton (BSM) setup.\n",
      "\n",
      "Initial stock index level S0 = 100\n",
      "Strike price of the European call option K = 105\n",
      "Time-to-maturity T = 1 year\n",
      "Constant, riskless short rate r = 5%\n",
      "Constant volatility = 20%\n",
      "\n",
      "1.  Draw I (pseudo) random numbers z(i) from the standard normal distribution\n",
      "2.  Calculate all resulting index levels at maturity ST(i) for given z(i)\n",
      "3.  Calculate all inner values of the option at maturity as hT(i) = max(ST(i)-K,o)\n",
      "4.  Estimate the option present value via the Monte Carlo estimator"
     ]
    },
    {
     "cell_type": "code",
     "collapsed": false,
     "input": [
      "import numpy as np"
     ],
     "language": "python",
     "metadata": {},
     "outputs": [],
     "prompt_number": 1
    },
    {
     "cell_type": "code",
     "collapsed": false,
     "input": [
      "S0 = 100\n",
      "K = 105\n",
      "T = 1.0\n",
      "r = 0.05\n",
      "sigma = 0.2"
     ],
     "language": "python",
     "metadata": {},
     "outputs": [],
     "prompt_number": 2
    },
    {
     "cell_type": "code",
     "collapsed": false,
     "input": [
      "I = 100000 #number of simulations"
     ],
     "language": "python",
     "metadata": {},
     "outputs": [],
     "prompt_number": 3
    },
    {
     "cell_type": "code",
     "collapsed": false,
     "input": [
      "z = np.random.standard_normal(I) #pseudorandom numbers\n",
      "ST = S0 * np.exp((r - 0.5 * sigma ** 2 ) * T + sigma * np.sqrt(T) * z ) #index values at maturity\n",
      "hT = np.maximum(ST - K, 0) #inner values at maturity\n",
      "C0 = np.exp(-r * T) * np.sum(hT) / I #Monte Carlo estimator"
     ],
     "language": "python",
     "metadata": {},
     "outputs": [],
     "prompt_number": 4
    },
    {
     "cell_type": "code",
     "collapsed": false,
     "input": [
      "#Output\n",
      "print \"Value of the European Call Option is %5.3f\" % C0"
     ],
     "language": "python",
     "metadata": {},
     "outputs": [
      {
       "output_type": "stream",
       "stream": "stdout",
       "text": [
        "Value of the European Call Option is 8.040\n"
       ]
      }
     ],
     "prompt_number": 5
    },
    {
     "cell_type": "code",
     "collapsed": false,
     "input": [],
     "language": "python",
     "metadata": {},
     "outputs": []
    }
   ],
   "metadata": {}
  }
 ]
}